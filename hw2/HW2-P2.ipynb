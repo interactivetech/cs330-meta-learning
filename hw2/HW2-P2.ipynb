{
 "cells": [
  {
   "cell_type": "code",
   "execution_count": 122,
   "metadata": {},
   "outputs": [],
   "source": [
    "import pickle\n",
    "import numpy as np\n",
    "import tensorflow as tf\n",
    "import tensorflow_probability as tfp"
   ]
  },
  {
   "cell_type": "code",
   "execution_count": 26,
   "metadata": {},
   "outputs": [],
   "source": [
    "with open('hw2_q2.pkl', 'rb') as f:\n",
    "    data = pickle.load(f)"
   ]
  },
  {
   "cell_type": "code",
   "execution_count": 27,
   "metadata": {},
   "outputs": [
    {
     "name": "stdout",
     "output_type": "stream",
     "text": [
      "(20000, 32, 32, 3) (6838, 32, 32, 3)\n"
     ]
    }
   ],
   "source": [
    "data_trn, data_val = data['train'], data['test']\n",
    "print(data_trn.shape, data_val.shape)"
   ]
  },
  {
   "cell_type": "code",
   "execution_count": 129,
   "metadata": {},
   "outputs": [],
   "source": [
    "def resnet(layer_in, num_channels, output_dim, num_filters=256, num_blocks=8, scope=\"resnet\"):\n",
    "    \n",
    "#     TODO: BatchNorm & WeightNormalization\n",
    "\n",
    "    with tf.variable_scope(scope):\n",
    "        h = conv2d(layer_in, scope=\"conv2d\", kernel=(3, 3), stride=(1, 1), \n",
    "                   in_channels=num_channels, out_channels=num_filters)\n",
    "        for idx in range(num_blocks):\n",
    "            _h = conv2d(h, scope=\"conv2d_\"+str(idx)+\"_0\", kernel=(1, 1), stride=(1, 1), \n",
    "                        in_channels=num_filters, out_channels=num_filters)\n",
    "            _h = tf.nn.relu(_h)\n",
    "            _h = conv2d(_h, scope=\"conv2d_\"+str(idx)+\"_1\", kernel=(3, 3), stride=(1, 1), \n",
    "                        in_channels=num_filters, out_channels=num_filters)\n",
    "            _h = tf.nn.relu(_h)\n",
    "            _h = conv2d(_h, scope=\"conv2d_\"+str(idx)+\"_2\", kernel=(1,1), stride=(1, 1), \n",
    "                        in_channels=num_filters, out_channels=num_filters)\n",
    "            h = h + _h\n",
    "            h = tf.nn.relu(_h)\n",
    "        layer_out = conv2d(h, scope=\"resnet_layer_out\", kernel=(3, 3), stride=(1, 1), \n",
    "                           in_channels=num_filters, out_channels=output_dim)\n",
    "    return layer_out\n",
    "        \n",
    "def conv2d(layer_in, scope, kernel, stride, in_channels, out_channels):\n",
    "    with tf.variable_scope(scope):\n",
    "        kernel_h, kernel_w = kernel\n",
    "        stride_h, stride_w = stride\n",
    "        weights = tf.get_variable(\"weights\", [kernel_h, kernel_w, in_channels, out_channels],\n",
    "                                  tf.float32, tf.contrib.layers.xavier_initializer())\n",
    "        layer_out = tf.nn.conv2d(input=layer_in, filter=weights, strides=[1, stride_h, stride_w, 1], \n",
    "                                 padding='SAME', name='conv2d_layer_out')\n",
    "    return layer_out"
   ]
  },
  {
   "cell_type": "markdown",
   "metadata": {},
   "source": [
    "$$\n",
    "y=b \\odot x+(1-b) \\odot(x \\odot \\exp (s(b \\odot x))+t(b \\odot x))\n",
    "$$"
   ]
  },
  {
   "cell_type": "code",
   "execution_count": 130,
   "metadata": {},
   "outputs": [],
   "source": [
    "class Layer():\n",
    "    def x2y(self, x, sum_log_jacobian):\n",
    "        raise NotImplementedError()\n",
    "\n",
    "    def y2x(self, y, z):\n",
    "        raise NotImplementedError()"
   ]
  },
  {
   "cell_type": "code",
   "execution_count": 131,
   "metadata": {},
   "outputs": [],
   "source": [
    "class CouplingLayer(Layer):\n",
    "    def __init__(self, scope, mask_type):\n",
    "        self.scope = scope\n",
    "        self.mask_type = mask_type\n",
    "        \n",
    "    def _get_mask(self, shape):\n",
    "        if self.mask_type.startswith(\"checkerboard\"):\n",
    "            if self.mask_type == \"checkerboard0\":\n",
    "                mask = tf.constant([[0.0, 1.0], [1.0, 0.0]], dtype=tf.float32)\n",
    "            elif self.mask_type == \"checkerboard1\": \n",
    "                mask = tf.constant([[1.0, 0.0], [0.0, 1.0]], dtype=tf.float32)\n",
    "            mask = tf.reshape(mask, [1, 2, 2, 1], name=\"mask_\" + self.mask_type)\n",
    "            shape = [shape[0], shape[1]//2, shape[2]//2, shape[3]]\n",
    "            mask = tf.tile(mask, shape)\n",
    "        elif self.mask_type.startswith(\"channel\"):\n",
    "            shape = [shape[0], shape[1], shape[2], shape[3]//2]\n",
    "            ones = tf.ones(shape)\n",
    "            zeros = tf.zeros(shape)\n",
    "            if self.mask_type == \"channel0\":\n",
    "                mask = tf.concat([ones, zeros], axis=-1, name=\"mask_\" + self.mask_type)\n",
    "            elif self.mask_type == \"channel1\": \n",
    "                mask = tf.concat([zeros, ones], axis=-1, name=\"mask_\" + self.mask_type)\n",
    "        return mask\n",
    "    \n",
    "    def _build_log_s_t(self, masked_in, num_channels, output_dim, scope=\"_build_log_s_t\"):\n",
    "        with tf.variable_scope(scope):\n",
    "            resnet_out = resnet(masked_in, num_channels, output_dim)\n",
    "            log_s, t = tf.split(resnet_out, 2, axis=-1)\n",
    "        return log_s, t\n",
    "    \n",
    "    def x2y(self, x, sum_log_jacobian):\n",
    "        '''\n",
    "        sum_log_jacobian = (None,)\n",
    "        '''\n",
    "        with tf.variable_scope(self.scope):\n",
    "            mask = self._get_mask(tf.shape(x))\n",
    "            masked_x = mask * x\n",
    "            num_channels = x.get_shape()[-1]\n",
    "            log_s, t = self._build_log_s_t(masked_x, num_channels, num_channels*2)\n",
    "            s = tf.check_numerics(tf.exp(log_s), \"exp has NaN\")\n",
    "            y = masked_x + (1 - mask) * (x * s + t)\n",
    "            sum_log_jacobian += tf.reduce_sum(log_s, axis=[1, 2, 3])\n",
    "        return y, sum_log_jacobian\n",
    "        \n",
    "    def y2x(self, y, z):\n",
    "        with tf.variable_scope(self.scope, reuse=True):\n",
    "            mask = self._get_mask(tf.shape(y))\n",
    "            masked_y = mask * y\n",
    "            log_s, t = self._build_log_s_t(mask_y)\n",
    "            neg_s = tf.check_numerics(tf.exp(-log_s), \"exp has NaN\")\n",
    "            x = masked_y + ((1 - mask) * y - t) * tf.exp(neg_s)\n",
    "            \n",
    "        return x, z"
   ]
  },
  {
   "cell_type": "code",
   "execution_count": 132,
   "metadata": {},
   "outputs": [],
   "source": [
    "class SqueezingLayer(Layer):\n",
    "    def __init__(self):\n",
    "        pass\n",
    "\n",
    "    def x2y(self, x, sum_log_det_jacobians):\n",
    "        y = tf.space_to_depth(x, 2)\n",
    "        return y,sum_log_det_jacobians\n",
    "    \n",
    "    def y2x(self, y, z):\n",
    "        x = tf.depth_to_space(y, 2)\n",
    "        if z is not None:\n",
    "            z = tf.depth_to_space(z, 2)\n",
    "        return x, z"
   ]
  },
  {
   "cell_type": "code",
   "execution_count": null,
   "metadata": {},
   "outputs": [],
   "source": [
    "class RealNVP():\n",
    "    def __init__(self, sess, input_shape=(32, 32, 3), learning_rate=1e-4):\n",
    "        self.sess = sess\n",
    "        self.input_shape = input_shape\n",
    "        self._build_ph()\n",
    "        self._build_layers()\n",
    "        self._build_loss()\n",
    "        self._build_op(learning_rate)\n",
    "\n",
    "    def _build_ph(self):\n",
    "        self.x = tf.placeholder(tf.float32, (None,) + self.input_shape, name=\"x\")\n",
    "        self.z = tf.placeholder(tf.float32, (None,) + self.input_shape, name=\"z\")\n",
    "        \n",
    "    def _build_layers(self):\n",
    "        self.layers = []\n",
    "        self.layers.extend([CouplingLayer(\n",
    "            \"0_checkerboard_\"+str(idx)+\"_1\", \"checkerboard\" + str(idx % 2)\n",
    "        ) for idx in range(4)])\n",
    "        self.layers.append(SqueezingLayer())\n",
    "        self.layers.extend([CouplingLayer(\n",
    "            \"1_channel\" + str(idx) + \"_2\", \"channel\" + str(idx % 2)\n",
    "        ) for idx in range(3)])\n",
    "        self.layers.extend([CouplingLayer(\n",
    "            \"2_checkerboard_\"+str(idx)+\"_1\", \"checkerboard\" + str(idx % 2)\n",
    "        ) for idx in range(3)])\n",
    "        self.layers.append(SqueezingLayer())\n",
    "        self.layers.extend([CouplingLayer(\n",
    "            \"3_channel\" + str(idx) + \"_2\", \"channel\" + str(idx % 2)\n",
    "        ) for idx in range(3)])\n",
    "        self.layers.extend([CouplingLayer(\n",
    "            \"4_checkerboard_\"+str(idx)+\"_1\", \"checkerboard\" + str(idx % 2)\n",
    "        ) for idx in range(3)])\n",
    "        \n",
    "    def _build_loss(self):\n",
    "        y, sum_log_jacobian = self.x, 0\n",
    "        for layer in self.layers:\n",
    "            y, sum_log_jacobian = layer.x2y(y, sum_log_jacobian)\n",
    "        \n",
    "        base_dist = tfp.distributions.MultivariateNormalDiag(\n",
    "            loc=[0.0, 0.0], \n",
    "            scale_diag=[1.0, 1.0])\n",
    "        self.loss = tf.reduce_sum(tf.log(base_dist.prob(y)) + sum_log_jacobian, axis=0)\n",
    "        print(y.get_shape().as_list())\n",
    "        print(tf.log(base_dist.prob(y).get_shape().as_list()))\n",
    "        print(sum_log_jacobian.get_shape().as_list())\n",
    "        print(self.loss.get_shape().as_list())\n",
    "    \n",
    "    def _build_op(self, learning_rate):\n",
    "        self.op = tf.train.AdamOptimizer(learning_rate).minimize(self.loss)\n",
    "        \n",
    "    def _build_sample(self):\n",
    "        z = self.z\n",
    "        for layer in reversed(self.layers):\n",
    "            y, z = layer.y2x(y, z)\n",
    "        return y\n",
    "            \n",
    "    def step(self, batch, with_update=False):\n",
    "        if with_update:\n",
    "            loss, _ = self.sess.run([self.loss, self.op], feed_dict={self.x: batch})\n",
    "        else:\n",
    "            loss = self.sess.run(self.loss, feed_dict={self.x: batch})\n",
    "        return loss\n",
    "    \n",
    "    def sample(self, batch):\n",
    "        return self.sess.run(self.sample_out, feed_dict={self.z: batch})"
   ]
  },
  {
   "cell_type": "code",
   "execution_count": null,
   "metadata": {},
   "outputs": [],
   "source": [
    "def train(sess, data_trn, data_val, batch_size=256, num_epochs=2, \n",
    "          log_per_epoch=1, print_per_epoch=10):\n",
    "    model = RealNVP(sess)\n",
    "    init_op = tf.initializers.global_variables()\n",
    "    sess.run(init_op)\n",
    "    \n",
    "    loss_trn = []\n",
    "    loss_val = []\n",
    "\n",
    "    for epoch in range(num_epochs):\n",
    "        loss_trn_batch = []\n",
    "        for batch in np.array_split(data_trn, np.ceil(len(data_trn)/batch_size)):\n",
    "            loss = model.step(batch, with_update=True)\n",
    "            loss_trn_batch.append(loss)\n",
    "\n",
    "        if epoch % log_per_epoch == 0:\n",
    "            loss_trn.append(np.mean(loss_trn_batch))\n",
    "            loss_val.append(model.step(data_val, with_update=False))\n",
    "        if epoch % print_per_epoch == 0:\n",
    "            print(\"at epoch\", epoch, loss_trn[-1], loss_val[-1])\n",
    "    return loss_trn, loss_val, model"
   ]
  },
  {
   "cell_type": "code",
   "execution_count": null,
   "metadata": {},
   "outputs": [],
   "source": [
    "tf.reset_default_graph()\n",
    "sess = tf.Session()\n",
    "loss_trn, loss_val, network = train(sess, data_trn, data_val)"
   ]
  },
  {
   "cell_type": "code",
   "execution_count": null,
   "metadata": {},
   "outputs": [],
   "source": []
  },
  {
   "cell_type": "code",
   "execution_count": null,
   "metadata": {},
   "outputs": [],
   "source": []
  },
  {
   "cell_type": "code",
   "execution_count": null,
   "metadata": {},
   "outputs": [],
   "source": []
  }
 ],
 "metadata": {
  "kernelspec": {
   "display_name": "Python 3",
   "language": "python",
   "name": "python3"
  },
  "language_info": {
   "codemirror_mode": {
    "name": "ipython",
    "version": 3
   },
   "file_extension": ".py",
   "mimetype": "text/x-python",
   "name": "python",
   "nbconvert_exporter": "python",
   "pygments_lexer": "ipython3",
   "version": "3.6.8"
  }
 },
 "nbformat": 4,
 "nbformat_minor": 2
}
