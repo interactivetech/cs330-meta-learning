{
 "cells": [
  {
   "cell_type": "code",
   "execution_count": 688,
   "metadata": {},
   "outputs": [],
   "source": [
    "import pickle\n",
    "import sys\n",
    "import numpy as np\n",
    "import tensorflow as tf\n",
    "import tensorflow_probability as tfp\n",
    "import matplotlib.pyplot as plt\n",
    "%matplotlib inline"
   ]
  },
  {
   "cell_type": "code",
   "execution_count": 2,
   "metadata": {},
   "outputs": [],
   "source": [
    "with open('hw2_q2.pkl', 'rb') as f:\n",
    "    data = pickle.load(f)"
   ]
  },
  {
   "cell_type": "code",
   "execution_count": 3,
   "metadata": {},
   "outputs": [
    {
     "name": "stdout",
     "output_type": "stream",
     "text": [
      "(20000, 32, 32, 3) (6838, 32, 32, 3)\n"
     ]
    }
   ],
   "source": [
    "data_trn, data_val = data['train'], data['test']\n",
    "print(data_trn.shape, data_val.shape)"
   ]
  },
  {
   "cell_type": "code",
   "execution_count": 871,
   "metadata": {},
   "outputs": [],
   "source": [
    "def debug(tensor):\n",
    "    return tf.check_numerics(tensor, tensor.name)\n",
    "\n",
    "def pprint(tensor, msg=\"\"):\n",
    "#     tensor_to_print = tf.reshape(tensor, [-1, np.prod(tensor.get_shape()[1:])]) if reshape else tensor\n",
    "    mean, var = tf.nn.moments(tensor, axes=None)\n",
    "    \n",
    "    with tf.control_dependencies([tf.print(msg+\"\\n\", \n",
    "                                           tensor.name, \" has shape \", \n",
    "                                           tf.shape(tensor), \"\\n\", \n",
    "                                           \"mean: \", mean, \"\\n\", \n",
    "                                           \"var: \", var, \"\\n\", \n",
    "                                           \"max: \", tf.reduce_max(tensor), \"\\n\", \n",
    "                                           \"min: \", tf.reduce_min(tensor), \"\\n\", \n",
    "#                                            tensor_to_print, \n",
    "                                           output_stream=sys.stdout)]):\n",
    "        return tf.check_numerics(tensor, tensor.name)"
   ]
  },
  {
   "cell_type": "code",
   "execution_count": 945,
   "metadata": {},
   "outputs": [],
   "source": [
    "def weights_normed(name, shape, dtype=tf.float32):\n",
    "    weights = tf.get_variable(name, shape=shape, dtype=dtype)\n",
    "    scale = tf.get_variable(name + \"_scale\", shape=[1], dtype=dtype, \n",
    "                            initializer=tf.contrib.layers.xavier_initializer(),\n",
    "                            regularizer=tf.contrib.layers.l2_regularizer(5e-5))\n",
    "    norm = tf.norm(weights)\n",
    "    return scale * weights/norm\n",
    "\n",
    "def resnet(layer_in, num_channels, output_dim, num_filters=6, num_blocks=2, scope=\"resnet\"):\n",
    "    \n",
    "#     TODO: BatchNorm & WeightNormalization\n",
    "    \n",
    "    with tf.variable_scope(scope):\n",
    "        h = conv2d(layer_in, scope=\"conv2d\", kernel=(3, 3), stride=(1, 1), \n",
    "                   in_channels=num_channels, out_channels=num_filters)\n",
    "        \n",
    "        for idx in range(num_blocks):\n",
    "            _h = conv2d(h, scope=\"conv2d_\"+str(idx)+\"_0\", kernel=(1, 1), stride=(1, 1), \n",
    "                        in_channels=num_filters, out_channels=num_filters)\n",
    "            _h = tf.nn.relu(_h)\n",
    "            _h = conv2d(_h, scope=\"conv2d_\"+str(idx)+\"_1\", kernel=(3, 3), stride=(1, 1), \n",
    "                        in_channels=num_filters, out_channels=num_filters)\n",
    "            _h = tf.nn.relu(_h)\n",
    "            _h = conv2d(_h, scope=\"conv2d_\"+str(idx)+\"_2\", kernel=(1,1), stride=(1, 1), \n",
    "                        in_channels=num_filters, out_channels=num_filters)\n",
    "            h = h + _h\n",
    "        h = tf.nn.relu(h)\n",
    "        layer_out = conv2d(h, scope=\"resnet_layer_out\", kernel=(3, 3), stride=(1, 1), \n",
    "                           in_channels=num_filters, out_channels=output_dim)\n",
    "        layer_out = tf.nn.tanh(layer_out)\n",
    "\n",
    "    return layer_out\n",
    "        \n",
    "def conv2d(layer_in, scope, kernel, stride, in_channels, out_channels):\n",
    "    with tf.variable_scope(scope):\n",
    "        kernel_h, kernel_w = kernel\n",
    "        stride_h, stride_w = stride\n",
    "        weights = weights_normed(\"weights\", [kernel_h, kernel_w, in_channels, out_channels])\n",
    "        layer_out = tf.nn.conv2d(input=layer_in, filter=weights, strides=[1, stride_h, stride_w, 1], \n",
    "                                 padding='SAME', name='conv2d_layer_out')\n",
    "\n",
    "    return layer_out"
   ]
  },
  {
   "cell_type": "markdown",
   "metadata": {},
   "source": [
    "$$\n",
    "\\left\\{\\begin{array}{ll}{y_{1 : d}} & {=x_{1 : d}} \\\\ {y_{d+1 : D}} & {=x_{d+1 : D} \\odot \\exp \\left(s\\left(x_{1 : d}\\right)\\right)+t\\left(x_{1 : d}\\right)}\\end{array}\\right.\n",
    "$$     \n",
    "$$\n",
    "\\left\\{\\begin{array}{ll}{x_{1 : d}} & {=y_{1 : d}} \\\\ {x_{d+1 : D}} & {=\\left(y_{d+1 : D}-t\\left(y_{1 : d}\\right)\\right) \\odot \\exp \\left(-s\\left(y_{1 : d}\\right)\\right)}\\end{array}\\right.\n",
    "$$"
   ]
  },
  {
   "cell_type": "markdown",
   "metadata": {},
   "source": [
    "$$\n",
    "y=b \\odot x+(1-b) \\odot(x \\odot \\exp (s(b \\odot x))+t(b \\odot x))\n",
    "$$"
   ]
  },
  {
   "cell_type": "code",
   "execution_count": 946,
   "metadata": {},
   "outputs": [],
   "source": [
    "class Layer():\n",
    "    def x2y(self, x, sum_log_jacobian):\n",
    "        raise NotImplementedError()\n",
    "\n",
    "    def y2x(self, y):\n",
    "        raise NotImplementedError()"
   ]
  },
  {
   "cell_type": "code",
   "execution_count": 976,
   "metadata": {},
   "outputs": [],
   "source": [
    "class CouplingLayer(Layer):\n",
    "    def __init__(self, scope, mask_type):\n",
    "        self.scope = scope\n",
    "        self.mask_type = mask_type\n",
    "        \n",
    "    def _get_mask(self, shape):\n",
    "        if self.mask_type.startswith(\"checkerboard\"):\n",
    "            if self.mask_type == \"checkerboard0\":\n",
    "                mask = tf.constant([[0.0, 1.0], [1.0, 0.0]], dtype=tf.float32)\n",
    "            elif self.mask_type == \"checkerboard1\": \n",
    "                mask = tf.constant([[1.0, 0.0], [0.0, 1.0]], dtype=tf.float32)\n",
    "            mask = tf.reshape(mask, [1, 2, 2, 1], name=\"mask_\" + self.mask_type)\n",
    "            shape = [shape[0], shape[1]//2, shape[2]//2, shape[3]]\n",
    "            mask = tf.tile(mask, shape)\n",
    "        elif self.mask_type.startswith(\"channel\"):\n",
    "            shape = [shape[0], shape[1], shape[2], shape[3]//2]\n",
    "            ones = tf.ones(shape)\n",
    "            zeros = tf.zeros(shape)\n",
    "            if self.mask_type == \"channel0\":\n",
    "                mask = tf.concat([ones, zeros], axis=-1, name=\"mask_\" + self.mask_type)\n",
    "            elif self.mask_type == \"channel1\": \n",
    "                mask = tf.concat([zeros, ones], axis=-1, name=\"mask_\" + self.mask_type)\n",
    "\n",
    "        return mask\n",
    "    \n",
    "    def _build_log_s_t(self, masked_in, scope=\"_build_log_s_t\"):\n",
    "        num_channels = masked_in.get_shape()[-1]\n",
    "        with tf.variable_scope(scope):\n",
    "            resnet_out = resnet(masked_in, num_channels, num_channels * 2)\n",
    "            log_s, t = tf.split(resnet_out, 2, axis=-1)\n",
    "#             log_s = tf.nn.tanh(log_s)\n",
    "#             t = tf.layers.dense(t, num_channels)\n",
    "\n",
    "        return log_s, t\n",
    "    \n",
    "    def x2y(self, x, sum_log_jacobian):\n",
    "        with tf.variable_scope(self.scope):\n",
    "            mask = self._get_mask(tf.shape(x))\n",
    "            masked_x = mask * x\n",
    "            log_s, t = self._build_log_s_t(masked_x)\n",
    "            \n",
    "            y = masked_x + (1 - mask) * (x * tf.exp(log_s) + t)\n",
    "            sum_log_jacobian += tf.reduce_sum(log_s, axis=[1, 2, 3])\n",
    "        \n",
    "        return y, sum_log_jacobian\n",
    "        \n",
    "    def y2x(self, y):\n",
    "        with tf.variable_scope(self.scope, reuse=True):\n",
    "            mask = self._get_mask(tf.shape(y))\n",
    "            masked_y = mask * y\n",
    "            log_s, t = self._build_log_s_t(masked_y)\n",
    "            x = masked_y + ((1 - mask) * y - t) * tf.exp(-log_s)\n",
    "\n",
    "        return x"
   ]
  },
  {
   "cell_type": "code",
   "execution_count": 977,
   "metadata": {},
   "outputs": [],
   "source": [
    "class SqueezingLayer(Layer):\n",
    "    def __init__(self):\n",
    "        pass\n",
    "\n",
    "    def x2y(self, x, sum_log_det_jacobian):\n",
    "        y = tf.space_to_depth(x, 2)\n",
    "        return y, sum_log_det_jacobian\n",
    "    \n",
    "    def y2x(self, y):\n",
    "        x = tf.depth_to_space(y, 2)\n",
    "        return x"
   ]
  },
  {
   "cell_type": "code",
   "execution_count": 1012,
   "metadata": {},
   "outputs": [],
   "source": [
    "class RealNVP():\n",
    "    def __init__(self, sess, alpha=0.05, input_shape=(32, 32, 3), learning_rate=1e-5):\n",
    "        self.sess = sess\n",
    "        self.alpha = alpha\n",
    "        self.x = tf.placeholder(tf.float32, (None,) + input_shape, name=\"x\")\n",
    "        self._build_layers()\n",
    "#         self._build_toy_layers()\n",
    "        self._build_loss()\n",
    "        self._build_op(learning_rate)\n",
    "        \n",
    "        self.z_sample = tf.placeholder(tf.float32, (None,) + self.output_shape, name=\"z_sample\")\n",
    "        self._build_sample()\n",
    "\n",
    "    def _build_layers(self):\n",
    "        self.layers = []\n",
    "        self.layers.extend([CouplingLayer(\n",
    "            \"0_checkerboard_idx_\"+str(idx), \"checkerboard\" + str(idx % 2)\n",
    "        ) for idx in range(4)])\n",
    "        self.layers.append(SqueezingLayer())\n",
    "        self.layers.extend([CouplingLayer(\n",
    "            \"1_channel_idx_\" + str(idx), \"channel\" + str(idx % 2)\n",
    "        ) for idx in range(3)])\n",
    "        self.layers.extend([CouplingLayer(\n",
    "            \"2_checkerboard_idx_\"+str(idx), \"checkerboard\" + str(idx % 2)\n",
    "        ) for idx in range(3)])\n",
    "        self.layers.append(SqueezingLayer())\n",
    "        self.layers.extend([CouplingLayer(\n",
    "            \"3_channel_idx_\" + str(idx), \"channel\" + str(idx % 2)\n",
    "        ) for idx in range(3)])\n",
    "        self.layers.extend([CouplingLayer(\n",
    "            \"4_checkerboard_idx_\"+str(idx), \"checkerboard\" + str(idx % 2)\n",
    "        ) for idx in range(3)])\n",
    "        \n",
    "    def _build_toy_layers(self):\n",
    "        self.layers = [CouplingLayer(\n",
    "            \"0_checkerboard_idx_\"+str(idx), \"checkerboard\" + str(idx % 2)\n",
    "        ) for idx in range(4)]\n",
    "        \n",
    "    def _preprocess(self):\n",
    "        \"\"\"\n",
    "        y <- logit(alpha + (1 - alpha) * x / 4) with dequantization\n",
    "        log_jacobian = partial (logit(y)) / partial(y)\n",
    "        log partial(y)/partial(x) is taken care of within _build_loss by adding log(4)\n",
    "        \"\"\" \n",
    "        y = (self.x + tf.random.uniform(minval=0, maxval=1-1e-5, shape=tf.shape(self.x))) / 4.0\n",
    "        with tf.control_dependencies([tf.assert_greater_equal(y, 0.0), tf.assert_less(y, 1.0)]):\n",
    "            y = self.alpha + y * (1-self.alpha)\n",
    "        with tf.control_dependencies([tf.assert_greater(y, 0.0), tf.assert_less(y, 1.0)]):\n",
    "            log_jacobian = tf.reduce_sum(- tf.log(y) - tf.log(1-y), [1,2,3])\n",
    "        y = tf.log(y) - tf.log(1-y)\n",
    "        \n",
    "        return y, log_jacobian\n",
    "        \n",
    "    def _build_loss(self):\n",
    "        print(\"building loss...\")\n",
    "        y, sum_log_jacobian = self._preprocess()\n",
    "        for layer in self.layers:\n",
    "            y, sum_log_jacobian = layer.x2y(y, sum_log_jacobian)\n",
    "\n",
    "        self.output_shape = tuple(y.get_shape()[1:])\n",
    "        base_dim = np.prod(self.output_shape)\n",
    "        base_dist = tfp.distributions.MultivariateNormalDiag(\n",
    "            loc=[0.0] * base_dim, \n",
    "            scale_diag=[1.0] * base_dim)\n",
    "        z = tf.reshape(y, [-1, base_dim])\n",
    "        z = pprint(z, msg=\"printing statstics of output z\")\n",
    "        log_pz = base_dist.log_prob(z)\n",
    "#         log_pz = debug(log_pz)\n",
    "        self.loss = - tf.reduce_mean(log_pz + sum_log_jacobian, axis=0)\n",
    "        \n",
    "        # negative log likelihood to bits per dim\n",
    "        self.loss = (self.loss / float(int(base_dim)) - tf.log((1-self.alpha)/4.0)) / tf.log(2.0)\n",
    "#         self.loss = debug(self.loss)\n",
    "    \n",
    "    def _build_op(self, learning_rate, grad_clip=1):\n",
    "        if grad_clip > 0:\n",
    "            op = tf.train.AdamOptimizer(learning_rate)\n",
    "            grads_and_vars = op.compute_gradients(self.loss)\n",
    "            new_grads_and_vars = [\n",
    "                (tf.clip_by_value(gv[0], -grad_clip, grad_clip), gv[1]) \n",
    "                for gv in grads_and_vars]\n",
    "            self.op = op.apply_gradients(new_grads_and_vars)\n",
    "        else:\n",
    "            self.op = tf.train.AdamOptimizer(learning_rate).minimize(self.loss)\n",
    "        \n",
    "    def _build_sample(self):\n",
    "        print(\"building samples...\")\n",
    "        y = self.z_sample\n",
    "        for layer in reversed(self.layers):\n",
    "            y = layer.y2x(y)\n",
    "        self.x_sample = tf.reciprocal(1 + tf.exp(-y))\n",
    "    \n",
    "    def step(self, batch, with_update=False):\n",
    "        if with_update:\n",
    "            loss, _ = self.sess.run([self.loss, self.op], \n",
    "                                       feed_dict={self.x: batch})\n",
    "        else:\n",
    "            loss = self.sess.run([self.loss], \n",
    "                                    feed_dict={self.x: batch})\n",
    "        return loss\n",
    "    \n",
    "    def sample(self, batch):\n",
    "        return self.sess.run(self.x_sample, feed_dict={self.z_sample: batch})"
   ]
  },
  {
   "cell_type": "code",
   "execution_count": 1013,
   "metadata": {},
   "outputs": [],
   "source": [
    "def train(sess, data_trn, data_val, batch_size=128, num_epochs=10, \n",
    "          log_per_epoch=1, print_per_epoch=1):\n",
    "    print(\"building model...\")\n",
    "    model = RealNVP(sess)\n",
    "    init_op = tf.initializers.global_variables()\n",
    "    sess.run(init_op)\n",
    "    \n",
    "    loss_trn = []\n",
    "    loss_val = []\n",
    "    \n",
    "    for epoch in range(num_epochs):\n",
    "        print(\"epoch {} starts...\".format(epoch))\n",
    "        loss_trn_batch = []\n",
    "        for batch in np.array_split(data_trn, np.ceil(len(data_trn)/batch_size)):\n",
    "            loss = model.step(batch, with_update=True)\n",
    "            loss_trn_batch.append(loss)\n",
    "\n",
    "        if epoch % log_per_epoch == 0:\n",
    "            loss_trn.append(np.mean(loss_trn_batch))\n",
    "            loss_val.append(model.step(data_val, with_update=False))\n",
    "\n",
    "        if epoch % print_per_epoch == 0:\n",
    "            print(\"at epoch\", epoch, loss_trn[-1], loss_val[-1])\n",
    "            \n",
    "    return loss_trn, loss_val, model"
   ]
  },
  {
   "cell_type": "code",
   "execution_count": 1014,
   "metadata": {},
   "outputs": [
    {
     "name": "stdout",
     "output_type": "stream",
     "text": [
      "building model...\n",
      "building loss...\n",
      "building samples...\n",
      "epoch 0 starts...\n",
      "at epoch 0 2.4115815 [2.358005]\n",
      "epoch 1 starts...\n",
      "at epoch 1 2.2993398 [2.249291]\n",
      "epoch 2 starts...\n",
      "at epoch 2 2.1923268 [2.1413627]\n",
      "epoch 3 starts...\n",
      "at epoch 3 2.0826766 [2.0283365]\n",
      "epoch 4 starts...\n",
      "at epoch 4 1.9682287 [1.91019]\n",
      "epoch 5 starts...\n",
      "at epoch 5 1.8484226 [1.7876176]\n",
      "epoch 6 starts...\n",
      "at epoch 6 1.7244376 [1.6607747]\n",
      "epoch 7 starts...\n",
      "at epoch 7 1.594809 [1.527025]\n",
      "epoch 8 starts...\n",
      "at epoch 8 1.4590048 [1.3868774]\n",
      "epoch 9 starts...\n",
      "at epoch 9 1.3155082 [1.238226]\n"
     ]
    }
   ],
   "source": [
    "tf.reset_default_graph()\n",
    "sess = tf.Session()\n",
    "loss_trn, loss_val, model = train(sess, data_trn, data_val)"
   ]
  },
  {
   "cell_type": "code",
   "execution_count": null,
   "metadata": {},
   "outputs": [],
   "source": [
    "def sample(sess, model, num_samples):\n",
    "    z = np.random.normal(0.0, 1.0, (num_samples,) + model.output_shape)\n",
    "    samples = model.sample(z)\n",
    "    return samples"
   ]
  },
  {
   "cell_type": "code",
   "execution_count": 954,
   "metadata": {},
   "outputs": [],
   "source": [
    "samples = sample(sess, model, 2)"
   ]
  },
  {
   "cell_type": "code",
   "execution_count": 974,
   "metadata": {},
   "outputs": [],
   "source": [
    "def plot_figures(figures, nrows=1, ncols=1):\n",
    "\n",
    "    fig, axeslist = plt.subplots(ncols=ncols, nrows=nrows)\n",
    "    for ind,figure in enumerate(figures):\n",
    "        axeslist.ravel()[ind].imshow(figure)\n",
    "        axeslist.ravel()[ind].set_axis_off()\n",
    "    plt.tight_layout()"
   ]
  },
  {
   "cell_type": "code",
   "execution_count": 975,
   "metadata": {},
   "outputs": [
    {
     "data": {
      "image/png": "[encoded data removed]",
      "text/plain": [
       "<Figure size 432x288 with 2 Axes>"
      ]
     },
     "metadata": {
      "needs_background": "light"
     },
     "output_type": "display_data"
    }
   ],
   "source": [
    "plot_figures(samples, 1, 2)"
   ]
  },
  {
   "cell_type": "code",
   "execution_count": 917,
   "metadata": {},
   "outputs": [
    {
     "data": {
      "text/plain": [
       "<matplotlib.image.AxesImage at 0x1c2a25ab70>"
      ]
     },
     "execution_count": 917,
     "metadata": {},
     "output_type": "execute_result"
    },
    {
     "data": {
      "image/png": "[encoded data removed]",
      "text/plain": [
       "<Figure size 432x288 with 1 Axes>"
      ]
     },
     "metadata": {
      "needs_background": "light"
     },
     "output_type": "display_data"
    }
   ],
   "source": [
    "plt.imshow(data_trn[0]/3)"
   ]
  },
  {
   "cell_type": "code",
   "execution_count": null,
   "metadata": {},
   "outputs": [],
   "source": [
    "# sess.close()"
   ]
  },
  {
   "cell_type": "code",
   "execution_count": 1001,
   "metadata": {},
   "outputs": [
    {
     "data": {
      "text/plain": [
       "0"
      ]
     },
     "execution_count": 1001,
     "metadata": {},
     "output_type": "execute_result"
    }
   ],
   "source": [
    "np.min(data_trn)"
   ]
  },
  {
   "cell_type": "code",
   "execution_count": 1008,
   "metadata": {},
   "outputs": [
    {
     "data": {
      "text/plain": [
       "0.2499999993749985"
      ]
     },
     "execution_count": 1008,
     "metadata": {},
     "output_type": "execute_result"
    }
   ],
   "source": [
    "np.max([np.random.uniform()/4 for _ in range(100000000)])"
   ]
  },
  {
   "cell_type": "code",
   "execution_count": null,
   "metadata": {},
   "outputs": [],
   "source": []
  }
 ],
 "metadata": {
  "kernelspec": {
   "display_name": "Python 3",
   "language": "python",
   "name": "python3"
  },
  "language_info": {
   "codemirror_mode": {
    "name": "ipython",
    "version": 3
   },
   "file_extension": ".py",
   "mimetype": "text/x-python",
   "name": "python",
   "nbconvert_exporter": "python",
   "pygments_lexer": "ipython3",
   "version": "3.6.8"
  }
 },
 "nbformat": 4,
 "nbformat_minor": 2
}
