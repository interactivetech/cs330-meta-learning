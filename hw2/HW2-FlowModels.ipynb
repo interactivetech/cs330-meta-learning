{
 "cells": [
  {
   "cell_type": "code",
   "execution_count": 288,
   "metadata": {},
   "outputs": [],
   "source": [
    "import numpy as np\n",
    "import tensorflow as tf\n",
    "import tensorflow_probability as tfp\n",
    "tfd = tfp.distributions\n",
    "tfb = tfp.bijectors\n",
    "import matplotlib.pyplot as plt\n",
    "%matplotlib inline"
   ]
  },
  {
   "cell_type": "markdown",
   "metadata": {},
   "source": [
    "### 1 Flow in 2D"
   ]
  },
  {
   "cell_type": "code",
   "execution_count": 228,
   "metadata": {},
   "outputs": [],
   "source": [
    "def sample_data():\n",
    "    count = 100000\n",
    "    rand = np.random.RandomState(0)\n",
    "    a = [[-1.5, 2.5]] + rand.randn(count // 3, 2) * 0.2\n",
    "    b = [[1.5, 2.5]] + rand.randn(count // 3, 2) * 0.2\n",
    "    c = np.c_[2 * np.cos(np.linspace(0, np.pi, count // 3)),\n",
    "    -np.sin(np.linspace(0, np.pi, count // 3))]\n",
    "\n",
    "    c += rand.randn(*c.shape) * 0.2\n",
    "    data_x = np.concatenate([a, b, c], axis=0)\n",
    "    data_y = np.array([0] * len(a) + [1] * len(b) + [2] * len(c))\n",
    "    perm = rand.permutation(len(data_x))\n",
    "    return data_x[perm], data_y[perm]"
   ]
  },
  {
   "cell_type": "code",
   "execution_count": 229,
   "metadata": {},
   "outputs": [],
   "source": [
    "data_x, data_y = sample_data()\n",
    "data_trn, data_val = data_x[:80000], data_x[80000:]\n",
    "data_trn_y, data_val_y = data_y[:80000], data_y[80000:]"
   ]
  },
  {
   "cell_type": "markdown",
   "metadata": {},
   "source": [
    "### 1.1"
   ]
  },
  {
   "cell_type": "code",
   "execution_count": 230,
   "metadata": {},
   "outputs": [],
   "source": [
    "def build_mlp(layer_in, scope, num_layers, hidden_dim, output_dim, \n",
    "              activation=tf.tanh, output_activation=None):\n",
    "    '''\n",
    "    layer_out = (None, k)\n",
    "    '''\n",
    "    with tf.variable_scope(scope):\n",
    "        nn = layer_in\n",
    "        for idx in range(num_layers):\n",
    "            nn = tf.layers.dense(nn, hidden_dim, activation=activation, \n",
    "                                 bias_initializer=tf.contrib.layers.xavier_initializer())\n",
    "        layer_out = tf.layers.dense(nn, output_dim, activation=output_activation)\n",
    "    return layer_out"
   ]
  },
  {
   "cell_type": "code",
   "execution_count": 231,
   "metadata": {},
   "outputs": [],
   "source": [
    "def build_g(layer_in, mask_post, mask_prior, scope, k, num_layers, hidden_dim):\n",
    "    '''\n",
    "    layer_in, posterior, prior = (None, 2)\n",
    "    pi, mu, sigma2 = (None, k)\n",
    "    '''\n",
    "    with tf.variable_scope(scope):\n",
    "        posterior = layer_in * mask_post\n",
    "        prior = layer_in * mask_prior\n",
    "        pi = build_mlp(prior, \"pi\", num_layers, hidden_dim, k, \n",
    "                       output_activation=tf.nn.softmax)\n",
    "        mu = build_mlp(prior, \"mu\", num_layers, hidden_dim, k)\n",
    "        sigma2 = build_mlp(prior, \"sigma2\", num_layers, hidden_dim, k)\n",
    "        norm_dist = tfp.distributions.Normal(0, 1)\n",
    "        shifted = tf.expand_dims(posterior, axis=1) - tf.expand_dims(mu, axis=2)\n",
    "        shifted = tf.reduce_sum(shifted / tf.expand_dims(sigma2, axis=2), axis=-1)\n",
    "        assert shifted.shape.as_list() == [None, k]\n",
    "        layer_out = tf.reduce_sum(norm_dist.prob(shifted) * pi, axis=-1, name=\"layer_out\")\n",
    "        assert layer_out.shape.as_list() == [None]\n",
    "    return layer_out"
   ]
  },
  {
   "cell_type": "markdown",
   "metadata": {},
   "source": [
    "$$\\log p_{\\theta}(x)=\\log p\\left(f_{\\theta}(x)\\right)+\\log \\left|\\operatorname{det} \\frac{\\partial f_{\\theta}(x)}{\\partial x}\\right|$$\n",
    "$$f_\\theta\\left(\\mathbf{x}_1\\right) := \\int_{-\\infty}^{\\mathbf{x}_1} g_\\theta\\left(\\mathbf{t}\\right) d\\mathbf{t}$$\n",
    "$$f_\\theta\\left(\\mathbf{x}_2|\\mathbf{x}_1\\right) := \\int_{-\\infty}^{\\mathbf{x}_2} g_\\theta\\left(\\mathbf{t}|\\mathbf{x}_1\\right) d\\mathbf{t}$$\n",
    "$$\n",
    "\\frac{\\partial \\mathbf{z}}{\\partial \\mathbf{x}}=\\left[ \\begin{array}{cc}{g_\\theta\\left(\\mathbf{x}_1\\right)} & {0} \\\\ {g_\\theta\\left(\\mathbf{x}_2|\\mathbf{x}_1\\right)^T\\frac{\\partial g_\\theta\\left(\\mathbf{x}_2|\\mathbf{x}_1\\right)}{\\partial \\mathbf{x}_1}} & {g_\\theta\\left(\\mathbf{x}_2|\\mathbf{x}_1\\right)}\\end{array}\\right]\n",
    "$$\n",
    "For uniform base distribution, the first term is 0; the second term is \n",
    "$$\\left|g_\\theta\\left(\\mathbf{x}_1\\right)g_\\theta\\left(\\mathbf{x}_2|\\mathbf{x}_1\\right)\\right|$$\n",
    "To generate samples, \n",
    "$$p_{\\theta}(\\mathbf{x}_1, \\mathbf{x}_2) = g_\\theta\\left(\\mathbf{x}_1\\right)g_\\theta\\left(\\mathbf{x}_2|\\mathbf{x}_1\\right)$$"
   ]
  },
  {
   "cell_type": "code",
   "execution_count": 265,
   "metadata": {},
   "outputs": [],
   "source": [
    "class MixGaussian():\n",
    "    def __init__(self, sess, k, num_layers=4, hidden_dim=32, learning_rate=5e-4):\n",
    "        self.sess = sess\n",
    "        self.input = tf.placeholder(shape=[None, 2], name=\"input\", dtype=tf.float32)\n",
    "        self.k = k\n",
    "        \n",
    "        mask_post_1 = tf.constant([1.0, .0], dtype=tf.float32, name=\"mask_post_1\")\n",
    "        mask_prior_1 = tf.constant([.0, .0], dtype=tf.float32, name=\"mask_prior_1\")\n",
    "        self.g_1 = build_g(self.input, mask_post_1, mask_prior_1, \"g_1\", \n",
    "                           k, num_layers, hidden_dim)\n",
    "        \n",
    "        mask_post_2 = tf.constant([.0, 1.0], dtype=tf.float32, name=\"mask_post_2\")\n",
    "        mask_prior_2 = tf.constant([1.0, .0], dtype=tf.float32, name=\"mask_prior_2\")\n",
    "        self.g_2 = build_g(self.input, mask_post_2, mask_prior_2, \"g_2\", \n",
    "                           k, num_layers, hidden_dim)\n",
    "        \n",
    "        self.density_model = tf.abs(self.g_1 * self.g_2)\n",
    "        self.loss = tf.reduce_mean(-tf.log(self.density_model), axis=0)\n",
    "        self.op = tf.train.AdamOptimizer(learning_rate).minimize(self.loss)\n",
    "    \n",
    "    def step(self, batch, with_update=False):\n",
    "        if with_update:\n",
    "            loss, _ = self.sess.run([self.loss, self.op], feed_dict={self.input: batch})\n",
    "        else:\n",
    "            loss = self.sess.run(self.loss, feed_dict={self.input: batch})\n",
    "        return loss\n",
    "    \n",
    "    def eval_prob(self, samples):\n",
    "        return self.sess.run(self.density_model, feed_dict={self.input: samples})\n",
    "    \n",
    "    def eval_z(self, samples):\n",
    "        return self.sess.run([self.g_1, self.g_2], feed_dict={self.input: samples})"
   ]
  },
  {
   "cell_type": "code",
   "execution_count": 266,
   "metadata": {},
   "outputs": [],
   "source": [
    "def plot_density_model(network, step=0.1):\n",
    "    x, y = np.mgrid[slice(-4, 4, step), slice(-4, 4, step)]\n",
    "    xv, yv = x.flatten(), y.flatten()\n",
    "    z = network.eval_prob(list(zip(xv, yv)))\n",
    "    plt.pcolormesh(x, y, z.reshape(len(x), len(y)))"
   ]
  },
  {
   "cell_type": "code",
   "execution_count": 267,
   "metadata": {},
   "outputs": [],
   "source": [
    "def train(sess, data_trn, data_val, k=64, batch_size=256, num_epochs=80, \n",
    "          log_per_epoch=1, print_per_epoch=10):\n",
    "    network = MixGaussian(sess, k)\n",
    "    init_op = tf.initializers.global_variables()\n",
    "    sess.run(init_op)\n",
    "\n",
    "    loss_trn = []\n",
    "    loss_val = []\n",
    "\n",
    "    for epoch in range(num_epochs):\n",
    "        loss_trn_batch = []\n",
    "        for batch in np.array_split(data_trn, np.ceil(len(data_trn)/batch_size)):\n",
    "            loss = network.step(batch, with_update=True)\n",
    "            loss_trn_batch.append(loss)\n",
    "\n",
    "        if epoch % log_per_epoch == 0:\n",
    "            loss_trn.append(np.mean(loss_trn_batch))\n",
    "            loss_val.append(network.step(data_val, with_update=False))\n",
    "        if epoch % print_per_epoch == 0:\n",
    "            print(\"at epoch\", epoch, loss_trn[-1], loss_val[-1])\n",
    "    return loss_trn, loss_val, network"
   ]
  },
  {
   "cell_type": "code",
   "execution_count": 268,
   "metadata": {},
   "outputs": [
    {
     "name": "stdout",
     "output_type": "stream",
     "text": [
      "at epoch 0 2.8927646 1.9513525\n",
      "at epoch 10 1.8460104 1.8456329\n",
      "at epoch 20 1.8410031 1.8409194\n",
      "at epoch 30 1.8393043 1.8392677\n",
      "at epoch 40 1.8385302 1.838502\n",
      "at epoch 50 1.8382071 1.8381962\n",
      "at epoch 60 1.8380548 1.8380513\n",
      "at epoch 70 1.8379796 1.8379786\n"
     ]
    }
   ],
   "source": [
    "tf.reset_default_graph()\n",
    "sess = tf.Session()\n",
    "loss_trn, loss_val, network = train(sess, data_trn, data_val)"
   ]
  },
  {
   "cell_type": "markdown",
   "metadata": {},
   "source": [
    "### Plots\n",
    "- loss history\n",
    "- display samples\n",
    "- display latents"
   ]
  },
  {
   "cell_type": "code",
   "execution_count": 269,
   "metadata": {},
   "outputs": [
    {
     "data": {
      "text/plain": [
       "[<matplotlib.lines.Line2D at 0x1c31f6df98>]"
      ]
     },
     "execution_count": 269,
     "metadata": {},
     "output_type": "execute_result"
    },
    {
     "data": {
      "image/png": "[encoded data removed]",
      "text/plain": [
       "<Figure size 432x288 with 1 Axes>"
      ]
     },
     "metadata": {
      "needs_background": "light"
     },
     "output_type": "display_data"
    }
   ],
   "source": [
    "epochs = list(range(0, 80, 1))\n",
    "plt.plot(epochs, loss_trn)\n",
    "plt.plot(epochs, loss_val)"
   ]
  },
  {
   "cell_type": "code",
   "execution_count": 270,
   "metadata": {},
   "outputs": [
    {
     "data": {
      "image/png": "[encoded data removed]",
      "text/plain": [
       "<Figure size 432x288 with 1 Axes>"
      ]
     },
     "metadata": {
      "needs_background": "light"
     },
     "output_type": "display_data"
    }
   ],
   "source": [
    "plot_density_model(network)"
   ]
  },
  {
   "cell_type": "code",
   "execution_count": 271,
   "metadata": {},
   "outputs": [],
   "source": [
    "z_1, z_2 = network.eval_z(data_trn)"
   ]
  },
  {
   "cell_type": "code",
   "execution_count": 285,
   "metadata": {},
   "outputs": [
    {
     "data": {
      "text/plain": [
       "(0.3988, 0.399)"
      ]
     },
     "execution_count": 285,
     "metadata": {},
     "output_type": "execute_result"
    },
    {
     "data": {
      "image/png": "[encoded data removed]",
      "text/plain": [
       "<Figure size 432x288 with 1 Axes>"
      ]
     },
     "metadata": {
      "needs_background": "light"
     },
     "output_type": "display_data"
    }
   ],
   "source": [
    "plt.scatter(z_1, z_2, s=0.1, c=data_trn_y)\n",
    "plt.xlim(0.3988, 0.3990)\n",
    "plt.ylim(0.3988, 0.3990)"
   ]
  },
  {
   "cell_type": "code",
   "execution_count": null,
   "metadata": {},
   "outputs": [],
   "source": [
    "sess.close()"
   ]
  },
  {
   "cell_type": "markdown",
   "metadata": {},
   "source": [
    "### 1.2"
   ]
  },
  {
   "cell_type": "markdown",
   "metadata": {},
   "source": [
    "Within one coupling layer: \n",
    "$$\n",
    "\\begin{aligned} y_{1 : d} &=x_{1 : d} \\\\ y_{d+1 : D} &=x_{d+1 : D} \\odot \\exp \\left(s\\left(x_{1 : d}\\right)\\right)+t\\left(x_{1 : d}\\right) \\end{aligned}\n",
    "$$\n",
    "$$\n",
    "\\log \\left(p_{X}(x)\\right)=\\log \\left(p_{Z}(f(x))\\right)+\\log \\left(\\left|\\operatorname{det}\\left(\\frac{\\partial f(x)}{\\partial x^{T}}\\right)\\right|\\right) = \\log \\exp \\left[\\sum_{j} s\\left(x_{1 : d}\\right)_{j}\\right] = \\sum_{j} s\\left(x_{1 : d}\\right)_{j}\n",
    "$$"
   ]
  },
  {
   "cell_type": "markdown",
   "metadata": {},
   "source": [
    "With ```num_layers``` couling layers:\n",
    "$$\n",
    "\\left(z_{1}, z_{2}\\right)=\\left(\\sigma \\circ f_{\\theta, 1} \\circ \\cdots \\circ f_{\\theta, n}\\right)\\left(x_{1}, x_{2}\\right)\n",
    "$$"
   ]
  },
  {
   "cell_type": "markdown",
   "metadata": {},
   "source": [
    "$$\n",
    "\\begin{aligned} z &=f_{k} \\circ \\cdots \\circ f_{1}(x) \\\\ \n",
    "x &=f_{1}^{-1} \\circ \\cdots \\circ f_{k}^{-1}(z) \\\\ \n",
    "\\log p_{\\theta}(x) \n",
    "&=\\log p_{\\theta}(z)+\\sum_{i=1}^{k} \\log \\left|\\operatorname{det} \\frac{\\partial f_{i}}{\\partial f_{i-1}}\\right| \\\\\n",
    "&=\n",
    "\\end{aligned}\n",
    "$$"
   ]
  },
  {
   "cell_type": "code",
   "execution_count": 289,
   "metadata": {},
   "outputs": [
    {
     "ename": "ValueError",
     "evalue": "event_ndims (0) must be larger than min_event_ndims (1)",
     "output_type": "error",
     "traceback": [
      "\u001b[0;31m---------------------------------------------------------------------------\u001b[0m",
      "\u001b[0;31mValueError\u001b[0m                                Traceback (most recent call last)",
      "\u001b[0;32m<ipython-input-289-c634cb34373c>\u001b[0m in \u001b[0;36m<module>\u001b[0;34m\u001b[0m\n\u001b[1;32m      7\u001b[0m \u001b[0;34m\u001b[0m\u001b[0m\n\u001b[1;32m      8\u001b[0m \u001b[0mx\u001b[0m \u001b[0;34m=\u001b[0m \u001b[0mnvp\u001b[0m\u001b[0;34m.\u001b[0m\u001b[0msample\u001b[0m\u001b[0;34m(\u001b[0m\u001b[0;34m)\u001b[0m\u001b[0;34m\u001b[0m\u001b[0;34m\u001b[0m\u001b[0m\n\u001b[0;32m----> 9\u001b[0;31m \u001b[0mnvp\u001b[0m\u001b[0;34m.\u001b[0m\u001b[0mlog_prob\u001b[0m\u001b[0;34m(\u001b[0m\u001b[0mx\u001b[0m\u001b[0;34m)\u001b[0m\u001b[0;34m\u001b[0m\u001b[0;34m\u001b[0m\u001b[0m\n\u001b[0m\u001b[1;32m     10\u001b[0m \u001b[0mnvp\u001b[0m\u001b[0;34m.\u001b[0m\u001b[0mlog_prob\u001b[0m\u001b[0;34m(\u001b[0m\u001b[0;36m0.\u001b[0m\u001b[0;34m)\u001b[0m\u001b[0;34m\u001b[0m\u001b[0;34m\u001b[0m\u001b[0m\n",
      "\u001b[0;32m~/anaconda3/lib/python3.6/site-packages/tensorflow_probability/python/distributions/distribution.py\u001b[0m in \u001b[0;36mlog_prob\u001b[0;34m(self, value, name)\u001b[0m\n\u001b[1;32m    712\u001b[0m         \u001b[0mvalues\u001b[0m \u001b[0mof\u001b[0m \u001b[0mtype\u001b[0m\u001b[0;31m \u001b[0m\u001b[0;31m`\u001b[0m\u001b[0mself\u001b[0m\u001b[0;34m.\u001b[0m\u001b[0mdtype\u001b[0m\u001b[0;31m`\u001b[0m\u001b[0;34m.\u001b[0m\u001b[0;34m\u001b[0m\u001b[0;34m\u001b[0m\u001b[0m\n\u001b[1;32m    713\u001b[0m     \"\"\"\n\u001b[0;32m--> 714\u001b[0;31m     \u001b[0;32mreturn\u001b[0m \u001b[0mself\u001b[0m\u001b[0;34m.\u001b[0m\u001b[0m_call_log_prob\u001b[0m\u001b[0;34m(\u001b[0m\u001b[0mvalue\u001b[0m\u001b[0;34m,\u001b[0m \u001b[0mname\u001b[0m\u001b[0;34m)\u001b[0m\u001b[0;34m\u001b[0m\u001b[0;34m\u001b[0m\u001b[0m\n\u001b[0m\u001b[1;32m    715\u001b[0m \u001b[0;34m\u001b[0m\u001b[0m\n\u001b[1;32m    716\u001b[0m   \u001b[0;32mdef\u001b[0m \u001b[0m_call_prob\u001b[0m\u001b[0;34m(\u001b[0m\u001b[0mself\u001b[0m\u001b[0;34m,\u001b[0m \u001b[0mvalue\u001b[0m\u001b[0;34m,\u001b[0m \u001b[0mname\u001b[0m\u001b[0;34m,\u001b[0m \u001b[0;34m**\u001b[0m\u001b[0mkwargs\u001b[0m\u001b[0;34m)\u001b[0m\u001b[0;34m:\u001b[0m\u001b[0;34m\u001b[0m\u001b[0;34m\u001b[0m\u001b[0m\n",
      "\u001b[0;32m~/anaconda3/lib/python3.6/site-packages/tensorflow_probability/python/distributions/distribution.py\u001b[0m in \u001b[0;36m_call_log_prob\u001b[0;34m(self, value, name, **kwargs)\u001b[0m\n\u001b[1;32m    695\u001b[0m           value, name=\"value\", preferred_dtype=self.dtype)\n\u001b[1;32m    696\u001b[0m       \u001b[0;32mif\u001b[0m \u001b[0mhasattr\u001b[0m\u001b[0;34m(\u001b[0m\u001b[0mself\u001b[0m\u001b[0;34m,\u001b[0m \u001b[0;34m\"_log_prob\"\u001b[0m\u001b[0;34m)\u001b[0m\u001b[0;34m:\u001b[0m\u001b[0;34m\u001b[0m\u001b[0;34m\u001b[0m\u001b[0m\n\u001b[0;32m--> 697\u001b[0;31m         \u001b[0;32mreturn\u001b[0m \u001b[0mself\u001b[0m\u001b[0;34m.\u001b[0m\u001b[0m_log_prob\u001b[0m\u001b[0;34m(\u001b[0m\u001b[0mvalue\u001b[0m\u001b[0;34m,\u001b[0m \u001b[0;34m**\u001b[0m\u001b[0mkwargs\u001b[0m\u001b[0;34m)\u001b[0m\u001b[0;34m\u001b[0m\u001b[0;34m\u001b[0m\u001b[0m\n\u001b[0m\u001b[1;32m    698\u001b[0m       \u001b[0;32mif\u001b[0m \u001b[0mhasattr\u001b[0m\u001b[0;34m(\u001b[0m\u001b[0mself\u001b[0m\u001b[0;34m,\u001b[0m \u001b[0;34m\"_prob\"\u001b[0m\u001b[0;34m)\u001b[0m\u001b[0;34m:\u001b[0m\u001b[0;34m\u001b[0m\u001b[0;34m\u001b[0m\u001b[0m\n\u001b[1;32m    699\u001b[0m         \u001b[0;32mreturn\u001b[0m \u001b[0mtf\u001b[0m\u001b[0;34m.\u001b[0m\u001b[0mlog\u001b[0m\u001b[0;34m(\u001b[0m\u001b[0mself\u001b[0m\u001b[0;34m.\u001b[0m\u001b[0m_prob\u001b[0m\u001b[0;34m(\u001b[0m\u001b[0mvalue\u001b[0m\u001b[0;34m,\u001b[0m \u001b[0;34m**\u001b[0m\u001b[0mkwargs\u001b[0m\u001b[0;34m)\u001b[0m\u001b[0;34m)\u001b[0m\u001b[0;34m\u001b[0m\u001b[0;34m\u001b[0m\u001b[0m\n",
      "\u001b[0;32m~/anaconda3/lib/python3.6/site-packages/tensorflow_probability/python/distributions/transformed_distribution.py\u001b[0m in \u001b[0;36m_log_prob\u001b[0;34m(self, y)\u001b[0m\n\u001b[1;32m    411\u001b[0m     \u001b[0mevent_ndims\u001b[0m \u001b[0;34m=\u001b[0m \u001b[0mself\u001b[0m\u001b[0;34m.\u001b[0m\u001b[0m_maybe_get_static_event_ndims\u001b[0m\u001b[0;34m(\u001b[0m\u001b[0;34m)\u001b[0m\u001b[0;34m\u001b[0m\u001b[0;34m\u001b[0m\u001b[0m\n\u001b[1;32m    412\u001b[0m \u001b[0;34m\u001b[0m\u001b[0m\n\u001b[0;32m--> 413\u001b[0;31m     \u001b[0mildj\u001b[0m \u001b[0;34m=\u001b[0m \u001b[0mself\u001b[0m\u001b[0;34m.\u001b[0m\u001b[0mbijector\u001b[0m\u001b[0;34m.\u001b[0m\u001b[0minverse_log_det_jacobian\u001b[0m\u001b[0;34m(\u001b[0m\u001b[0my\u001b[0m\u001b[0;34m,\u001b[0m \u001b[0mevent_ndims\u001b[0m\u001b[0;34m=\u001b[0m\u001b[0mevent_ndims\u001b[0m\u001b[0;34m)\u001b[0m\u001b[0;34m\u001b[0m\u001b[0;34m\u001b[0m\u001b[0m\n\u001b[0m\u001b[1;32m    414\u001b[0m     \u001b[0;32mif\u001b[0m \u001b[0mself\u001b[0m\u001b[0;34m.\u001b[0m\u001b[0mbijector\u001b[0m\u001b[0;34m.\u001b[0m\u001b[0m_is_injective\u001b[0m\u001b[0;34m:\u001b[0m  \u001b[0;31m# pylint: disable=protected-access\u001b[0m\u001b[0;34m\u001b[0m\u001b[0;34m\u001b[0m\u001b[0m\n\u001b[1;32m    415\u001b[0m       \u001b[0;32mreturn\u001b[0m \u001b[0mself\u001b[0m\u001b[0;34m.\u001b[0m\u001b[0m_finish_log_prob_for_one_fiber\u001b[0m\u001b[0;34m(\u001b[0m\u001b[0my\u001b[0m\u001b[0;34m,\u001b[0m \u001b[0mx\u001b[0m\u001b[0;34m,\u001b[0m \u001b[0mildj\u001b[0m\u001b[0;34m,\u001b[0m \u001b[0mevent_ndims\u001b[0m\u001b[0;34m)\u001b[0m\u001b[0;34m\u001b[0m\u001b[0;34m\u001b[0m\u001b[0m\n",
      "\u001b[0;32m~/anaconda3/lib/python3.6/site-packages/tensorflow_probability/python/internal/distribution_util.py\u001b[0m in \u001b[0;36m_fn\u001b[0;34m(*args, **kwargs)\u001b[0m\n\u001b[1;32m   2071\u001b[0m     \u001b[0;34m@\u001b[0m\u001b[0mfunctools\u001b[0m\u001b[0;34m.\u001b[0m\u001b[0mwraps\u001b[0m\u001b[0;34m(\u001b[0m\u001b[0mfn\u001b[0m\u001b[0;34m)\u001b[0m\u001b[0;34m\u001b[0m\u001b[0;34m\u001b[0m\u001b[0m\n\u001b[1;32m   2072\u001b[0m     \u001b[0;32mdef\u001b[0m \u001b[0m_fn\u001b[0m\u001b[0;34m(\u001b[0m\u001b[0;34m*\u001b[0m\u001b[0margs\u001b[0m\u001b[0;34m,\u001b[0m \u001b[0;34m**\u001b[0m\u001b[0mkwargs\u001b[0m\u001b[0;34m)\u001b[0m\u001b[0;34m:\u001b[0m\u001b[0;34m\u001b[0m\u001b[0;34m\u001b[0m\u001b[0m\n\u001b[0;32m-> 2073\u001b[0;31m       \u001b[0;32mreturn\u001b[0m \u001b[0mfn\u001b[0m\u001b[0;34m(\u001b[0m\u001b[0;34m*\u001b[0m\u001b[0margs\u001b[0m\u001b[0;34m,\u001b[0m \u001b[0;34m**\u001b[0m\u001b[0mkwargs\u001b[0m\u001b[0;34m)\u001b[0m\u001b[0;34m\u001b[0m\u001b[0;34m\u001b[0m\u001b[0m\n\u001b[0m\u001b[1;32m   2074\u001b[0m \u001b[0;34m\u001b[0m\u001b[0m\n\u001b[1;32m   2075\u001b[0m     \u001b[0;32mif\u001b[0m \u001b[0m_fn\u001b[0m\u001b[0;34m.\u001b[0m\u001b[0m__doc__\u001b[0m \u001b[0;32mis\u001b[0m \u001b[0;32mNone\u001b[0m\u001b[0;34m:\u001b[0m\u001b[0;34m\u001b[0m\u001b[0;34m\u001b[0m\u001b[0m\n",
      "\u001b[0;32m~/anaconda3/lib/python3.6/site-packages/tensorflow_probability/python/bijectors/conditional_bijector.py\u001b[0m in \u001b[0;36minverse_log_det_jacobian\u001b[0;34m(self, y, event_ndims, name, **condition_kwargs)\u001b[0m\n\u001b[1;32m     48\u001b[0m       **condition_kwargs):\n\u001b[1;32m     49\u001b[0m     return self._call_inverse_log_det_jacobian(\n\u001b[0;32m---> 50\u001b[0;31m         y, event_ndims, name, **condition_kwargs)\n\u001b[0m\u001b[1;32m     51\u001b[0m \u001b[0;34m\u001b[0m\u001b[0m\n\u001b[1;32m     52\u001b[0m   @distribution_util.AppendDocstring(kwargs_dict={\n",
      "\u001b[0;32m~/anaconda3/lib/python3.6/site-packages/tensorflow_probability/python/bijectors/bijector.py\u001b[0m in \u001b[0;36m_call_inverse_log_det_jacobian\u001b[0;34m(self, y, event_ndims, name, **kwargs)\u001b[0m\n\u001b[1;32m   1085\u001b[0m         self._check_valid_event_ndims(\n\u001b[1;32m   1086\u001b[0m             \u001b[0mmin_event_ndims\u001b[0m\u001b[0;34m=\u001b[0m\u001b[0mself\u001b[0m\u001b[0;34m.\u001b[0m\u001b[0minverse_min_event_ndims\u001b[0m\u001b[0;34m,\u001b[0m\u001b[0;34m\u001b[0m\u001b[0;34m\u001b[0m\u001b[0m\n\u001b[0;32m-> 1087\u001b[0;31m             event_ndims=event_ndims)):\n\u001b[0m\u001b[1;32m   1088\u001b[0m       \u001b[0my\u001b[0m \u001b[0;34m=\u001b[0m \u001b[0mtf\u001b[0m\u001b[0;34m.\u001b[0m\u001b[0mconvert_to_tensor\u001b[0m\u001b[0;34m(\u001b[0m\u001b[0my\u001b[0m\u001b[0;34m,\u001b[0m \u001b[0mname\u001b[0m\u001b[0;34m=\u001b[0m\u001b[0;34m\"y\"\u001b[0m\u001b[0;34m)\u001b[0m\u001b[0;34m\u001b[0m\u001b[0;34m\u001b[0m\u001b[0m\n\u001b[1;32m   1089\u001b[0m       \u001b[0mself\u001b[0m\u001b[0;34m.\u001b[0m\u001b[0m_maybe_assert_dtype\u001b[0m\u001b[0;34m(\u001b[0m\u001b[0my\u001b[0m\u001b[0;34m)\u001b[0m\u001b[0;34m\u001b[0m\u001b[0;34m\u001b[0m\u001b[0m\n",
      "\u001b[0;32m~/anaconda3/lib/python3.6/site-packages/tensorflow_probability/python/bijectors/bijector.py\u001b[0m in \u001b[0;36m_check_valid_event_ndims\u001b[0;34m(self, min_event_ndims, event_ndims)\u001b[0m\n\u001b[1;32m   1301\u001b[0m         raise ValueError(\"event_ndims ({}) must be larger than \"\n\u001b[1;32m   1302\u001b[0m                          \"min_event_ndims ({})\".format(event_ndims_,\n\u001b[0;32m-> 1303\u001b[0;31m                                                        min_event_ndims))\n\u001b[0m\u001b[1;32m   1304\u001b[0m     \u001b[0;32melif\u001b[0m \u001b[0mself\u001b[0m\u001b[0;34m.\u001b[0m\u001b[0mvalidate_args\u001b[0m\u001b[0;34m:\u001b[0m\u001b[0;34m\u001b[0m\u001b[0;34m\u001b[0m\u001b[0m\n\u001b[1;32m   1305\u001b[0m       \u001b[0massertions\u001b[0m \u001b[0;34m+=\u001b[0m \u001b[0;34m[\u001b[0m\u001b[0mtf\u001b[0m\u001b[0;34m.\u001b[0m\u001b[0massert_greater_equal\u001b[0m\u001b[0;34m(\u001b[0m\u001b[0mevent_ndims\u001b[0m\u001b[0;34m,\u001b[0m \u001b[0mmin_event_ndims\u001b[0m\u001b[0;34m)\u001b[0m\u001b[0;34m]\u001b[0m\u001b[0;34m\u001b[0m\u001b[0;34m\u001b[0m\u001b[0m\n",
      "\u001b[0;31mValueError\u001b[0m: event_ndims (0) must be larger than min_event_ndims (1)"
     ]
    }
   ],
   "source": [
    "nvp = tfd.TransformedDistribution(\n",
    "    distribution=tfd.Uniform(low=[0.0, 0.0], high=[1.0, 1.0]), \n",
    "    bijector=tfb.RealNVP(\n",
    "        num_masked=1,\n",
    "        shift_and_log_scale_fn=tfb.real_nvp_default_template(\n",
    "            hidden_layers=[512, 512])))\n",
    "\n",
    "x = nvp.sample()\n",
    "nvp.log_prob(x)\n",
    "nvp.log_prob(0.)\n"
   ]
  },
  {
   "cell_type": "code",
   "execution_count": 290,
   "metadata": {},
   "outputs": [
    {
     "data": {
      "text/plain": [
       "<tf.Tensor 'real_nvpUniform/sample/real_nvp/forward/concat:0' shape=(2,) dtype=float32>"
      ]
     },
     "execution_count": 290,
     "metadata": {},
     "output_type": "execute_result"
    }
   ],
   "source": []
  },
  {
   "cell_type": "code",
   "execution_count": null,
   "metadata": {},
   "outputs": [],
   "source": []
  }
 ],
 "metadata": {
  "kernelspec": {
   "display_name": "Python 3",
   "language": "python",
   "name": "python3"
  },
  "language_info": {
   "codemirror_mode": {
    "name": "ipython",
    "version": 3
   },
   "file_extension": ".py",
   "mimetype": "text/x-python",
   "name": "python",
   "nbconvert_exporter": "python",
   "pygments_lexer": "ipython3",
   "version": "3.6.8"
  }
 },
 "nbformat": 4,
 "nbformat_minor": 2
}
