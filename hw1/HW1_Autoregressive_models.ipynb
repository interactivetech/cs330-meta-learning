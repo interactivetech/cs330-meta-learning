{
 "cells": [
  {
   "cell_type": "markdown",
   "metadata": {},
   "source": [
    "## 1 Warmup"
   ]
  },
  {
   "cell_type": "code",
   "execution_count": 140,
   "metadata": {},
   "outputs": [],
   "source": [
    "import numpy as np\n",
    "import matplotlib.pyplot as plt"
   ]
  },
  {
   "cell_type": "code",
   "execution_count": 122,
   "metadata": {},
   "outputs": [],
   "source": [
    "def sample_data():\n",
    "    count = 10000\n",
    "    rand = np.random.RandomState(0)\n",
    "    a = 0.3 + 0.1 * rand.randn(count)\n",
    "    b = 0.8 + 0.05 * rand.randn(count)\n",
    "    mask = rand.rand(count) < 0.5\n",
    "    samples = np.clip(a * mask + b * (1 - mask), 0.0, 1.0)\n",
    "    return np.digitize(samples, np.linspace(0.0, 1.0, 100))"
   ]
  },
  {
   "cell_type": "code",
   "execution_count": 123,
   "metadata": {},
   "outputs": [],
   "source": [
    "data_all = sample_data()\n",
    "data_trn = data_all[:8000]\n",
    "data_val = data_all[8000:]"
   ]
  },
  {
   "cell_type": "markdown",
   "metadata": {},
   "source": [
    "Derivative for softmax where $$p = \\text{softmax}(\\theta), y = \\text{one_hot}(x)$$:\n",
    "$$\\nabla_{\\theta_x} p_\\theta(x) = p_\\theta(x)(1-p_\\theta(x))$$\n",
    "$$\\nabla_{\\theta_{x^\\prime}} p_\\theta(x) = -p_\\theta(x)p_\\theta(x^\\prime), x \\neq x^\\prime$$\n",
    "$$J(\\theta) = \\frac{1}{n} \\sum_i -\\log p_\\theta(x^{(i)})$$\n",
    "$$\\nabla_{\\theta_j} J(\\theta) = \\frac{1}{n} [\\sum_i p_\\theta(x^{(i)}) - \\sum_i I(j=x^{(i)})] = \\frac{1}{n} - \\frac{1}{n}\\sum_i I(j=x^{(i)})$$"
   ]
  },
  {
   "cell_type": "code",
   "execution_count": 300,
   "metadata": {},
   "outputs": [],
   "source": [
    "class Solver1():\n",
    "    def __init__(self, input_range=100, lr=5e-4, batch_size=500, num_epochs=10000, log_every_epoch=50):\n",
    "        self.lr = lr\n",
    "        self.batch_size = batch_size\n",
    "        self.num_epochs = num_epochs\n",
    "        self.log_every_epoch = log_every_epoch\n",
    "        self.theta = np.zeros(input_range)\n",
    "    \n",
    "    def compute_loss(self, batch):\n",
    "        theta_entries = self.theta[batch]\n",
    "        stab = np.max(theta_entries) # stablizer\n",
    "        probs = np.exp(theta_entries - stab) / np.sum(np.exp(self.theta - stab)) # array of p_\\theta(x^{(i)}) \n",
    "        loss = np.mean(-np.log(probs))\n",
    "        return loss\n",
    "    \n",
    "    def update(self, batch):\n",
    "        n = len(batch)\n",
    "        gradient = np.ones(len(self.theta)) * 1/n\n",
    "        unique, counts = np.unique(batch, return_counts=True)\n",
    "        for j, count in zip(unique, counts):\n",
    "            gradient[j] -= count/n\n",
    "        self.theta -= self.lr * gradient\n",
    "    \n",
    "    def train(self, data_trn, data_val):\n",
    "        loss_trn = []\n",
    "        loss_val = []\n",
    "        for epoch in range(self.num_epochs):\n",
    "            np.random.shuffle(data_trn)\n",
    "            loss_trn_batch = []\n",
    "            for batch in np.array_split(data_trn, np.ceil(len(data_trn)/self.batch_size)):\n",
    "                self.update(batch)\n",
    "                loss = self.compute_loss(batch)\n",
    "                loss_trn_batch.append(loss)\n",
    "            if epoch % self.log_every_epoch == 0:\n",
    "                loss_trn.append(np.mean(loss_trn_batch))\n",
    "                loss_val.append(self.compute_loss(data_val))\n",
    "                print(\"loss at epoch {}: {}, {}\".format(epoch, loss_trn[-1], loss_val[-1]))\n",
    "        return loss_trn, loss_val"
   ]
  },
  {
   "cell_type": "code",
   "execution_count": 150,
   "metadata": {},
   "outputs": [],
   "source": [
    "solver = Solver1()\n",
    "loss_trn, loss_val = solver.train(data_trn, data_val)"
   ]
  },
  {
   "cell_type": "code",
   "execution_count": 151,
   "metadata": {},
   "outputs": [
    {
     "data": {
      "text/plain": [
       "[<matplotlib.lines.Line2D at 0x10f8f26d8>]"
      ]
     },
     "execution_count": 151,
     "metadata": {},
     "output_type": "execute_result"
    },
    {
     "data": {
      "image/png": "[encoded data removed]",
      "text/plain": [
       "<Figure size 432x288 with 1 Axes>"
      ]
     },
     "metadata": {
      "needs_background": "light"
     },
     "output_type": "display_data"
    }
   ],
   "source": [
    "epochs = list(range(0, solver.num_epochs, solver.log_every_epoch))\n",
    "plt.plot(epochs, loss_trn)\n",
    "plt.plot(epochs, loss_val)"
   ]
  },
  {
   "cell_type": "code",
   "execution_count": 152,
   "metadata": {},
   "outputs": [
    {
     "data": {
      "text/plain": [
       "(array([ 24., 118., 343., 333., 160.,  24.,   8., 234., 677.,  79.]),\n",
       " array([ 1. , 10.5, 20. , 29.5, 39. , 48.5, 58. , 67.5, 77. , 86.5, 96. ]),\n",
       " <a list of 10 Patch objects>)"
      ]
     },
     "execution_count": 152,
     "metadata": {},
     "output_type": "execute_result"
    },
    {
     "data": {
      "image/png": "[encoded data removed]",
      "text/plain": [
       "<Figure size 432x288 with 1 Axes>"
      ]
     },
     "metadata": {
      "needs_background": "light"
     },
     "output_type": "display_data"
    }
   ],
   "source": [
    "plt.hist(data_val)"
   ]
  },
  {
   "cell_type": "code",
   "execution_count": 153,
   "metadata": {},
   "outputs": [
    {
     "data": {
      "text/plain": [
       "[<matplotlib.lines.Line2D at 0x10c436080>]"
      ]
     },
     "execution_count": 153,
     "metadata": {},
     "output_type": "execute_result"
    },
    {
     "data": {
      "image/png": "[encoded data removed]",
      "text/plain": [
       "<Figure size 432x288 with 1 Axes>"
      ]
     },
     "metadata": {
      "needs_background": "light"
     },
     "output_type": "display_data"
    }
   ],
   "source": [
    "probs = np.exp(solver.theta - np.max(solver.theta))\n",
    "probs /= np.sum(probs)\n",
    "plt.plot(range(1, 101), probs)"
   ]
  },
  {
   "cell_type": "code",
   "execution_count": 154,
   "metadata": {},
   "outputs": [
    {
     "data": {
      "text/plain": [
       "(array([ 61.,  86., 205., 226.,  81.,  60.,  57., 550., 617.,  57.]),\n",
       " array([  1. ,  10.9,  20.8,  30.7,  40.6,  50.5,  60.4,  70.3,  80.2,\n",
       "         90.1, 100. ]),\n",
       " <a list of 10 Patch objects>)"
      ]
     },
     "execution_count": 154,
     "metadata": {},
     "output_type": "execute_result"
    },
    {
     "data": {
      "image/png": "[encoded data removed]",
      "text/plain": [
       "<Figure size 432x288 with 1 Axes>"
      ]
     },
     "metadata": {
      "needs_background": "light"
     },
     "output_type": "display_data"
    }
   ],
   "source": [
    "data_generated = np.random.choice(range(1, 101), size=2000, replace=True, p=probs)\n",
    "plt.hist(data_generated)"
   ]
  },
  {
   "cell_type": "markdown",
   "metadata": {},
   "source": [
    "## 2 Two-dimensional data"
   ]
  },
  {
   "cell_type": "markdown",
   "metadata": {},
   "source": [
    "### 2.1 MLP"
   ]
  },
  {
   "cell_type": "code",
   "execution_count": 155,
   "metadata": {},
   "outputs": [],
   "source": [
    "distribution = np.load('./distribution.npy')"
   ]
  },
  {
   "cell_type": "code",
   "execution_count": 168,
   "metadata": {},
   "outputs": [],
   "source": [
    "data_all = np.random.choice(range(200*200), size=100000, replace=True, p=distribution.flatten())"
   ]
  },
  {
   "cell_type": "code",
   "execution_count": 169,
   "metadata": {},
   "outputs": [],
   "source": [
    "data_all = [(x//200, x%200) for x in data_all]\n",
    "data_trn = data_all[:8000]\n",
    "data_val = data_all[8000:]"
   ]
  },
  {
   "cell_type": "code",
   "execution_count": 312,
   "metadata": {},
   "outputs": [],
   "source": [
    "class MLP():\n",
    "    def __init__(self, input_dim=200, hid_dim=200, output_dim=200, num_epochs=800, batch_size=400, lr=5e-4, log_every_epoch=10):\n",
    "        self.num_epochs = num_epochs\n",
    "        self.batch_size = batch_size\n",
    "        self.lr = lr\n",
    "        self.log_every_epoch = log_every_epoch\n",
    "        self.W1 = np.random.randn(input_dim, hid_dim)\n",
    "        self.b1 = np.random.randn(hid_dim)\n",
    "        self.W2 = np.random.randn(hid_dim, output_dim)\n",
    "        self.b2 = np.random.randn(output_dim)\n",
    "    \n",
    "    def softmax(self, logits):\n",
    "        probs = np.exp(logits - np.max(logits, axis=-1).reshape(len(logits), 1))\n",
    "        probs /= np.sum(probs, axis=-1).reshape(len(logits), 1)\n",
    "        return probs\n",
    "    \n",
    "    def one_hot(self, x, total=200):\n",
    "        rt = np.zeros(total)\n",
    "        rt[x] = 1\n",
    "        return rt\n",
    "    \n",
    "    def split(self, batch):\n",
    "        batch_x = np.array([self.one_hot(x) for x, y in batch])\n",
    "        batch_y = np.array([y for x, y in batch])\n",
    "        return batch_x, batch_y\n",
    "        \n",
    "    def forward(self, batch_x):\n",
    "        hidden = batch_x.dot(self.W1) + self.b1\n",
    "        hidden_activated = np.tanh(hidden)\n",
    "        logits = hidden_activated.dot(self.W2) + self.b2\n",
    "        out = self.softmax(logits)\n",
    "        rec = [batch_x, hidden, hidden_activated]\n",
    "        return out, rec\n",
    "    \n",
    "    def compute_loss(self, batch_y, out):\n",
    "        probs = out[range(len(batch_y)), batch_y]\n",
    "        return np.mean(-np.log(probs))\n",
    "    \n",
    "    def backward(self, batch_y, out, rec):\n",
    "        batch_x, hidden, hidden_activated = rec\n",
    "        dlogits = out.copy()\n",
    "        dlogits[range(len(batch_y)), batch_y] -= 1\n",
    "        dlogits = dlogits / len(batch_y)\n",
    "        db2 = np.sum(dlogits, axis=0)\n",
    "        dW2 = hidden_activated.T.dot(dlogits)\n",
    "        dhidden_activated = dlogits.dot(self.W2.T)\n",
    "        dhidden = dhidden_activated * (1-hidden_activated**2)\n",
    "        db1 = np.sum(dhidden, axis=0)\n",
    "        dW1 = batch_x.T.dot(dhidden)\n",
    "#         assert dW2.shape == self.W2.shape\n",
    "#         assert db2.shape == self.b2.shape\n",
    "#         assert dW1.shape == self.W1.shape\n",
    "#         assert db1.shape == self.b1.shape\n",
    "        return dW2, db2, dW1, db1\n",
    "    \n",
    "    def update(self, batch):\n",
    "        batch_x, batch_y = self.split(batch)\n",
    "        out, rec = self.forward(batch_x)\n",
    "        dW2, db2, dW1, db1 = self.backward(batch_y, out, rec)\n",
    "        self.W2 -= self.lr * dW2\n",
    "        self.b2 -= self.lr * db2\n",
    "        self.W1 -= self.lr * dW1\n",
    "        self.b1 -= self.lr * db1\n",
    "        return self.compute_loss(batch_y, out)\n",
    "    \n",
    "    def train(self, data_trn, data_val):\n",
    "        data_val_x, data_val_y = self.split(data_val)\n",
    "        loss_trn = []\n",
    "        loss_val = []\n",
    "        for epoch in range(self.num_epochs):\n",
    "            np.random.shuffle(data_trn)\n",
    "            loss_trn_batch = []\n",
    "            for batch in np.array_split(data_trn, np.ceil(len(data_trn)/self.batch_size)):\n",
    "                loss = self.update(batch)\n",
    "                loss_trn_batch.append(loss)\n",
    "            if epoch % self.log_every_epoch == 0:\n",
    "                loss_trn.append(np.mean(loss_trn_batch))\n",
    "                out, _ = self.forward(data_val_x)\n",
    "                loss_val.append(self.compute_loss(data_val_y, out))   \n",
    "                print(\"loss at epoch {}: {}, {}\".format(epoch, loss_trn[-1], loss_val[-1]))\n",
    "        return loss_trn, loss_val"
   ]
  },
  {
   "cell_type": "code",
   "execution_count": 313,
   "metadata": {
    "scrolled": true
   },
   "outputs": [
    {
     "name": "stdout",
     "output_type": "stream",
     "text": [
      "loss at epoch 0: 28.54135034335958, 28.33199193532397\n",
      "loss at epoch 10: 27.803540368401798, 27.60846027395569\n",
      "loss at epoch 20: 27.27326837801177, 27.08505569446608\n",
      "loss at epoch 30: 26.855671154330658, 26.67212915351918\n",
      "loss at epoch 40: 26.507571735581386, 26.327889559803044\n",
      "loss at epoch 50: 26.20676645614845, 26.030594452429202\n",
      "loss at epoch 60: 25.940502817672204, 25.76776739886843\n",
      "loss at epoch 70: 25.70078631803409, 25.531530910324516\n",
      "loss at epoch 80: 25.48206353481289, 25.316377129737926\n",
      "loss at epoch 90: 25.280173863863073, 25.118105096935093\n",
      "loss at epoch 100: 25.09184278012076, 24.93342010196987\n",
      "loss at epoch 110: 24.914590748916137, 24.759811095165873\n",
      "loss at epoch 120: 24.74658211290889, 24.59544307805305\n",
      "loss at epoch 130: 24.586534288066225, 24.43901073392325\n",
      "loss at epoch 140: 24.433510017785014, 24.28956315912235\n",
      "loss at epoch 150: 24.28676761752015, 24.146376299087443\n",
      "loss at epoch 160: 24.145734782838158, 24.008862959939673\n",
      "loss at epoch 170: 24.009901700916537, 23.87651730849435\n",
      "loss at epoch 180: 23.878834397010827, 23.748895619042546\n",
      "loss at epoch 190: 23.752125157108356, 23.62559306091769\n",
      "loss at epoch 200: 23.629394615731744, 23.506247864249588\n",
      "loss at epoch 210: 23.51032918712004, 23.390533693245047\n",
      "loss at epoch 220: 23.394633087954833, 23.27816528119773\n",
      "loss at epoch 230: 23.28204013318219, 23.16889022037391\n",
      "loss at epoch 240: 23.172347948972405, 23.06249207512474\n",
      "loss at epoch 250: 23.065354949933642, 22.958782051375188\n",
      "loss at epoch 260: 22.960898504125645, 22.857599143157177\n",
      "loss at epoch 270: 22.85884020835966, 22.75880260443667\n",
      "loss at epoch 280: 22.759053686516665, 22.662269566431167\n",
      "loss at epoch 290: 22.66143103279081, 22.567891324827368\n",
      "loss at epoch 300: 22.5658804418716, 22.475570885858986\n",
      "loss at epoch 310: 22.472306379043548, 22.385221167095484\n",
      "loss at epoch 320: 22.380652758407653, 22.296761393485667\n",
      "loss at epoch 330: 22.29082500068464, 22.210115563327907\n",
      "loss at epoch 340: 22.202768462491022, 22.125212829970167\n",
      "loss at epoch 350: 22.11640792032716, 22.041985630471633\n",
      "loss at epoch 360: 22.031684396146613, 21.96036916266083\n",
      "loss at epoch 370: 21.94855014907217, 21.88029908262065\n",
      "loss at epoch 380: 21.8669217554824, 21.801714951530364\n",
      "loss at epoch 390: 21.786760760889102, 21.724556516331152\n",
      "loss at epoch 400: 21.708000523720205, 21.64876576453119\n",
      "loss at epoch 410: 21.630595002882252, 21.574286174425215\n",
      "loss at epoch 420: 21.554478168368853, 21.501063297781965\n",
      "loss at epoch 430: 21.479596224464444, 21.429044686064906\n",
      "loss at epoch 440: 21.405902637471712, 21.358179397887\n",
      "loss at epoch 450: 21.33335007216001, 21.28841946003037\n",
      "loss at epoch 460: 21.261891784247922, 21.219718805159967\n",
      "loss at epoch 470: 21.19147329697742, 21.152034388960605\n",
      "loss at epoch 480: 21.122058301012434, 21.085325660020544\n",
      "loss at epoch 490: 21.053610191312313, 21.019554391671846\n",
      "loss at epoch 500: 20.986086773445653, 20.954685417032493\n",
      "loss at epoch 510: 20.919459205525875, 20.89068567264577\n",
      "loss at epoch 520: 20.853683910868714, 20.827525009645846\n",
      "loss at epoch 530: 20.788747080763088, 20.76517504031399\n",
      "loss at epoch 540: 20.72460734880443, 20.703610476094383\n",
      "loss at epoch 550: 20.661246484368167, 20.642807114859\n",
      "loss at epoch 560: 20.598643669551997, 20.582742935089527\n",
      "loss at epoch 570: 20.536769859976964, 20.52339799063634\n",
      "loss at epoch 580: 20.475609938747862, 20.46475282640453\n",
      "loss at epoch 590: 20.41515801435304, 20.406790269308935\n",
      "loss at epoch 600: 20.355368310455212, 20.34949362845622\n",
      "loss at epoch 610: 20.296250625864978, 20.292848038374498\n",
      "loss at epoch 620: 20.237783364882446, 20.23683848594368\n",
      "loss at epoch 630: 20.17994729179962, 20.18145180812805\n",
      "loss at epoch 640: 20.122728726998687, 20.12667460307579\n",
      "loss at epoch 650: 20.06612934246131, 20.072494761373893\n",
      "loss at epoch 660: 20.010123228803838, 20.01890074071509\n",
      "loss at epoch 670: 19.954705872987297, 19.965881338512936\n",
      "loss at epoch 680: 19.899871172894056, 19.913425979274546\n",
      "loss at epoch 690: 19.845593402262647, 19.861524597526973\n",
      "loss at epoch 700: 19.79188501893055, 19.810167185937747\n",
      "loss at epoch 710: 19.738721359594656, 19.75934441024563\n",
      "loss at epoch 720: 19.686095660273303, 19.70904699259723\n",
      "loss at epoch 730: 19.63400296316532, 19.65926548663251\n",
      "loss at epoch 740: 19.582429362430084, 19.609990902182698\n",
      "loss at epoch 750: 19.53137838231644, 19.561214186952057\n",
      "loss at epoch 760: 19.48082658383997, 19.512926403032576\n",
      "loss at epoch 770: 19.430772119590443, 19.465118311868927\n",
      "loss at epoch 780: 19.381202763218134, 19.417780534687687\n",
      "loss at epoch 790: 19.332121175666273, 19.370903382597902\n"
     ]
    }
   ],
   "source": [
    "mlp = MLP()\n",
    "loss_trn, loss_val = mlp.train(data_trn, data_val)"
   ]
  },
  {
   "cell_type": "code",
   "execution_count": 314,
   "metadata": {},
   "outputs": [
    {
     "data": {
      "text/plain": [
       "[<matplotlib.lines.Line2D at 0x819b92e80>]"
      ]
     },
     "execution_count": 314,
     "metadata": {},
     "output_type": "execute_result"
    },
    {
     "data": {
      "image/png": "[encoded data removed]",
      "text/plain": [
       "<Figure size 432x288 with 1 Axes>"
      ]
     },
     "metadata": {
      "needs_background": "light"
     },
     "output_type": "display_data"
    }
   ],
   "source": [
    "epochs = list(range(0, mlp.num_epochs, mlp.log_every_epoch))\n",
    "plt.plot(epochs, loss_trn)\n",
    "plt.plot(epochs, loss_val)"
   ]
  },
  {
   "cell_type": "code",
   "execution_count": 337,
   "metadata": {
    "scrolled": true
   },
   "outputs": [
    {
     "name": "stdout",
     "output_type": "stream",
     "text": [
      "loss at epoch 0: 5.298315777566274, 5.298316218177764\n",
      "loss at epoch 1000: 5.296220064544965, 5.29721066746695\n",
      "loss at epoch 2000: 5.294209997602433, 5.296190696643664\n",
      "loss at epoch 3000: 5.2922855241341, 5.295256343375052\n",
      "loss at epoch 4000: 5.290446688619768, 5.294407642914796\n",
      "loss at epoch 5000: 5.288693534646249, 5.2936446280632685\n",
      "loss at epoch 6000: 5.2870261074963025, 5.2929673291277295\n",
      "loss at epoch 7000: 5.28544442791207, 5.292375773882572\n",
      "loss at epoch 8000: 5.2839485183208605, 5.29186998752966\n",
      "loss at epoch 9000: 5.282538381750897, 5.291449992658802\n",
      "loss at epoch 10000: 5.281214069570023, 5.291115809208388\n",
      "loss at epoch 11000: 5.27997558177697, 5.290867454426218\n",
      "loss at epoch 12000: 5.2788229339142285, 5.29070494283058\n",
      "loss at epoch 13000: 5.277756160636803, 5.290628286171592\n",
      "loss at epoch 14000: 5.276775261392743, 5.290637493392854\n",
      "loss at epoch 15000: 5.275880184160361, 5.290732570593435\n",
      "loss at epoch 16000: 5.275071055958133, 5.2909135209902605\n",
      "loss at epoch 17000: 5.274347701187543, 5.291180344880893\n",
      "loss at epoch 18000: 5.273710252831312, 5.291533039606775\n",
      "loss at epoch 19000: 5.273158724086753, 5.291971599516957\n",
      "loss at epoch 20000: 5.272693026659644, 5.2924960159323495\n",
      "loss at epoch 21000: 5.2723130801729585, 5.2931062771105255\n",
      "loss at epoch 22000: 5.2720191435931465, 5.293802368211116\n",
      "loss at epoch 23000: 5.271810910660868, 5.294584271261843\n",
      "loss at epoch 24000: 5.271688435287308, 5.295451965125188\n",
      "loss at epoch 25000: 5.271651792934243, 5.296405425465784\n",
      "loss at epoch 26000: 5.271700827548376, 5.297444624718513\n",
      "loss at epoch 27000: 5.271835626051054, 5.298569532057363\n",
      "loss at epoch 28000: 5.2720560483869665, 5.299780113365093\n",
      "loss at epoch 29000: 5.272362211835536, 5.301076331203702\n"
     ]
    }
   ],
   "source": [
    "data_trn_1 = [x for x, y in data_trn]\n",
    "data_val_1 = [x for x, y in data_val]\n",
    "solver1 = Solver1(input_range=200, num_epochs=30000, log_every_epoch=1000)\n",
    "loss_trn_1, loss_val_1 = solver1.train(data_trn_1, data_val_1)"
   ]
  },
  {
   "cell_type": "code",
   "execution_count": 336,
   "metadata": {},
   "outputs": [
    {
     "data": {
      "text/plain": [
       "[<matplotlib.lines.Line2D at 0x818c17320>]"
      ]
     },
     "execution_count": 336,
     "metadata": {},
     "output_type": "execute_result"
    },
    {
     "data": {
      "image/png": "[encoded data removed]",
      "text/plain": [
       "<Figure size 432x288 with 1 Axes>"
      ]
     },
     "metadata": {
      "needs_background": "light"
     },
     "output_type": "display_data"
    }
   ],
   "source": [
    "epochs = list(range(0, solver1.num_epochs, solver1.log_every_epoch))\n",
    "plt.plot(epochs, loss_trn_1)\n",
    "plt.plot(epochs, loss_val_1)"
   ]
  },
  {
   "cell_type": "code",
   "execution_count": 338,
   "metadata": {},
   "outputs": [],
   "source": [
    "probs = np.exp(solver1.theta - np.max(solver1.theta))\n",
    "probs /= np.sum(probs)\n",
    "x_generated = np.random.choice(range(200), size=2000, replace=True, p=probs)\n",
    "probs_table, _ = mlp.forward(np.array([mlp.one_hot(x) for x in x_generated]))\n",
    "y_generated = [np.random.choice(range(200), size=1, p=probs)[0] for probs in probs_table]"
   ]
  },
  {
   "cell_type": "code",
   "execution_count": 339,
   "metadata": {},
   "outputs": [
    {
     "data": {
      "text/plain": [
       "(array([[14., 32., 32., 12., 32.,  5., 11.,  9., 21., 15.],\n",
       "        [15.,  9., 13., 19., 10., 24., 30., 28., 14., 35.],\n",
       "        [25., 16., 23.,  4., 23., 26., 22., 45.,  4., 13.],\n",
       "        [11., 19., 12., 21., 15., 28., 25., 29., 37., 11.],\n",
       "        [42., 16., 12., 16., 16., 18., 32., 32., 21., 11.],\n",
       "        [33., 21., 16., 14., 28., 11., 17., 17., 32., 22.],\n",
       "        [18., 16.,  7.,  6., 33., 40., 25., 36., 19.,  7.],\n",
       "        [17., 31.,  6., 13., 23., 29., 21., 21., 10., 14.],\n",
       "        [13., 34.,  9., 21., 28.,  9.,  9., 25., 42.,  7.],\n",
       "        [21., 22., 19., 12., 22., 25., 23., 25., 14., 12.]]),\n",
       " array([  0. ,  19.9,  39.8,  59.7,  79.6,  99.5, 119.4, 139.3, 159.2,\n",
       "        179.1, 199. ]),\n",
       " array([  0. ,  19.9,  39.8,  59.7,  79.6,  99.5, 119.4, 139.3, 159.2,\n",
       "        179.1, 199. ]),\n",
       " <matplotlib.collections.QuadMesh at 0x11145a518>)"
      ]
     },
     "execution_count": 339,
     "metadata": {},
     "output_type": "execute_result"
    },
    {
     "data": {
      "image/png": "[encoded data removed]",
      "text/plain": [
       "<Figure size 432x288 with 1 Axes>"
      ]
     },
     "metadata": {
      "needs_background": "light"
     },
     "output_type": "display_data"
    }
   ],
   "source": [
    "plt.hist2d(x_generated, y_generated)"
   ]
  },
  {
   "cell_type": "code",
   "execution_count": 340,
   "metadata": {},
   "outputs": [
    {
     "data": {
      "text/plain": [
       "(array([[ 916.,  867.,  837.,  717.,  629.,  745.,  696.,  803.,  805.,\n",
       "          794.],\n",
       "        [ 868.,  906.,  711.,  426.,  507.,  758.,  607.,  748.,  807.,\n",
       "          812.],\n",
       "        [ 885.,  907.,  450.,  614., 1256., 1527., 1714.,  823.,  805.,\n",
       "          822.],\n",
       "        [ 919.,  936.,  512., 1282., 1672., 1797., 1741., 1328.,  789.,\n",
       "          792.],\n",
       "        [ 942.,  944.,  659.,  960., 1456., 1143., 1242., 1673., 1174.,\n",
       "          806.],\n",
       "        [ 918.,  984.,  688., 1137., 1371., 1684., 1645., 1653., 1335.,\n",
       "          736.],\n",
       "        [ 906.,  914.,  810., 1108., 1063., 1736., 1747., 1589.,  896.,\n",
       "          812.],\n",
       "        [ 950.,  914.,  895.,  716., 1033., 1441., 1587., 1262.,  768.,\n",
       "          792.],\n",
       "        [ 881.,  940.,  831.,  653., 1225., 1460., 1378., 1156., 1019.,\n",
       "          844.],\n",
       "        [ 736.,  581.,  413.,  441.,  523., 1042., 1556.,  994.,  867.,\n",
       "          841.]]),\n",
       " array([  0. ,  19.9,  39.8,  59.7,  79.6,  99.5, 119.4, 139.3, 159.2,\n",
       "        179.1, 199. ]),\n",
       " array([  0. ,  19.9,  39.8,  59.7,  79.6,  99.5, 119.4, 139.3, 159.2,\n",
       "        179.1, 199. ]),\n",
       " <matplotlib.collections.QuadMesh at 0x1101865c0>)"
      ]
     },
     "execution_count": 340,
     "metadata": {},
     "output_type": "execute_result"
    },
    {
     "data": {
      "image/png": "[encoded data removed]",
      "text/plain": [
       "<Figure size 432x288 with 1 Axes>"
      ]
     },
     "metadata": {
      "needs_background": "light"
     },
     "output_type": "display_data"
    }
   ],
   "source": [
    "plt.hist2d([x for x, y in data_all], [y for x, y in data_all])"
   ]
  },
  {
   "cell_type": "markdown",
   "metadata": {},
   "source": [
    "Solver1 should have been implemented as a special case of MLP with no hidden layer, where \n",
    "$$x^{(i)} = \\emptyset, y^{(i)} = x, \\forall x \\in \\{1 .. 100\\}$$\n",
    "$$\\text{mlp_out} = \\text{softmax}(\\langle \\text{one_hot}(\\emptyset), \\theta\\rangle)$$\n",
    "$$\\text{target} = \\text{one_hot}(x), \\text{target}_i = I(i = x)$$\n",
    "It encodes distribution with trivial prior $$p(x|\\emptyset)$$"
   ]
  },
  {
   "cell_type": "markdown",
   "metadata": {},
   "source": [
    "### 2.2 MADE"
   ]
  },
  {
   "cell_type": "code",
   "execution_count": null,
   "metadata": {},
   "outputs": [],
   "source": []
  }
 ],
 "metadata": {
  "kernelspec": {
   "display_name": "Python 3",
   "language": "python",
   "name": "python3"
  },
  "language_info": {
   "codemirror_mode": {
    "name": "ipython",
    "version": 3
   },
   "file_extension": ".py",
   "mimetype": "text/x-python",
   "name": "python",
   "nbconvert_exporter": "python",
   "pygments_lexer": "ipython3",
   "version": "3.6.8"
  }
 },
 "nbformat": 4,
 "nbformat_minor": 2
}
